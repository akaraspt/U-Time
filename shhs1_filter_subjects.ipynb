{
 "cells": [
  {
   "cell_type": "code",
   "execution_count": null,
   "id": "72775a3c-5bce-4c49-9941-2f95d735aa1f",
   "metadata": {},
   "outputs": [],
   "source": [
    "import os\n",
    "import os.path as osp\n",
    "import numpy as np\n",
    "import pandas as pd\n",
    "import glob\n",
    "import matplotlib.pyplot as plt\n",
    "import collections"
   ]
  },
  {
   "cell_type": "code",
   "execution_count": null,
   "id": "5c865dff-624b-4d2e-aef6-ae113e4014d2",
   "metadata": {},
   "outputs": [],
   "source": [
    "data_dir = '/home/akara/Workspace/sleep_data/shhs'\n",
    "work_dir = osp.join(data_dir, 'datasets')"
   ]
  },
  {
   "cell_type": "code",
   "execution_count": null,
   "id": "5af14270-6d5c-4c89-b00d-95f7dcbe49bb",
   "metadata": {},
   "outputs": [],
   "source": [
    "glob.glob(osp.join(work_dir, '*.csv'))"
   ]
  },
  {
   "cell_type": "code",
   "execution_count": null,
   "id": "98bc432a-2801-43c8-9d31-8ac6da4254a6",
   "metadata": {},
   "outputs": [],
   "source": [
    "shhs1_csv = osp.join(work_dir, 'shhs1-dataset-0.19.0.csv')\n",
    "shhs_var_csv = osp.join(work_dir, 'shhs-data-dictionary-0.19.0-variables.csv')"
   ]
  },
  {
   "cell_type": "code",
   "execution_count": null,
   "id": "560af5bb-5cfa-405b-a4b0-e09eb529663f",
   "metadata": {},
   "outputs": [],
   "source": [
    "ann_df = pd.read_csv(shhs1_csv)\n",
    "var_df = pd.read_csv(shhs_var_csv)"
   ]
  },
  {
   "cell_type": "code",
   "execution_count": null,
   "id": "5b9262f2-6fe2-47f0-a54c-f934b8cd5be6",
   "metadata": {},
   "outputs": [],
   "source": [
    "ann_df"
   ]
  },
  {
   "cell_type": "code",
   "execution_count": null,
   "id": "97993134-3a47-4de6-95f8-2dc9d301b051",
   "metadata": {},
   "outputs": [],
   "source": [
    "var_df"
   ]
  },
  {
   "cell_type": "markdown",
   "id": "984ef101-7bf2-4313-8d67-4dc30f42fc55",
   "metadata": {},
   "source": [
    "# Random pick subjects"
   ]
  },
  {
   "cell_type": "code",
   "execution_count": null,
   "id": "e912cbfa-d1d1-4ed2-8128-1bac8e9065e0",
   "metadata": {},
   "outputs": [],
   "source": [
    "def AHI_class(v):\n",
    "    '''\n",
    "    Assign each subject's AHI to one of obstructive sleep apnea (OSA) severity categories.\n",
    "    Ref: https://jcsm.aasm.org/doi/pdf/10.5664/jcsm.7916\n",
    "    '''\n",
    "    # Normal\n",
    "    if v < 5:\n",
    "        return 0\n",
    "    # Mild\n",
    "    elif v < 15:\n",
    "        return 1\n",
    "    # Moderate\n",
    "    elif v < 30:\n",
    "        return 2\n",
    "    # Severe\n",
    "    else:\n",
    "        return 3\n",
    "    \n",
    "# Apnea-Hypopnea Index (AHI), the AASM recommended definition (3%A)\n",
    "target_c = 'ahi_o0h3a'\n",
    "ann_df['osa_cat'] = ann_df[target_c].apply(AHI_class)"
   ]
  },
  {
   "cell_type": "code",
   "execution_count": null,
   "id": "331dd4f7-57f9-432c-b631-179fa4c43796",
   "metadata": {},
   "outputs": [],
   "source": [
    "n_samples = 100"
   ]
  },
  {
   "cell_type": "code",
   "execution_count": null,
   "id": "bccf1ead-9bf3-4ffe-9487-0eb0d820d285",
   "metadata": {},
   "outputs": [],
   "source": [
    "nor_df = ann_df[ann_df['osa_cat'] == 0].sample(n_samples)\n",
    "nor_df"
   ]
  },
  {
   "cell_type": "code",
   "execution_count": null,
   "id": "4c25845a-7aee-4820-9253-a64de571340e",
   "metadata": {},
   "outputs": [],
   "source": [
    "osa_df = ann_df[ann_df['osa_cat'] > 0].sample(n_samples)\n",
    "osa_df"
   ]
  },
  {
   "cell_type": "code",
   "execution_count": null,
   "id": "310126a5-ed11-4e56-b676-339de412c3f5",
   "metadata": {},
   "outputs": [],
   "source": [
    "nor_df['osa_cat'].value_counts()"
   ]
  },
  {
   "cell_type": "code",
   "execution_count": null,
   "id": "107e2ed8-ed6a-4de9-8254-7a98ebfb4306",
   "metadata": {},
   "outputs": [],
   "source": [
    "osa_df['osa_cat'].value_counts()"
   ]
  },
  {
   "cell_type": "code",
   "execution_count": null,
   "id": "0d672350-3572-4d70-9b0e-521f635441e0",
   "metadata": {},
   "outputs": [],
   "source": [
    "# nor_df.to_csv('shhs1_normal.csv', index=False)\n",
    "# osa_df.to_csv('shhs1_osa.csv', index=False)"
   ]
  },
  {
   "cell_type": "markdown",
   "id": "6bd857fd-2913-44b4-900e-d2822506f79b",
   "metadata": {},
   "source": [
    "# Create Symbolic Link"
   ]
  },
  {
   "cell_type": "code",
   "execution_count": null,
   "id": "f86d9cd2-e52b-4270-86bc-20cae56cb705",
   "metadata": {},
   "outputs": [],
   "source": [
    "nor_df = pd.read_csv('shhs1_normal.csv')\n",
    "osa_df = pd.read_csv('shhs1_osa.csv')"
   ]
  },
  {
   "cell_type": "code",
   "execution_count": null,
   "id": "e8610012-85d0-4540-aae4-ba5581c87721",
   "metadata": {
    "scrolled": true,
    "tags": []
   },
   "outputs": [],
   "source": [
    "list(glob.glob(osp.join(data_dir, '*')))"
   ]
  },
  {
   "cell_type": "code",
   "execution_count": null,
   "id": "39d6341c-ffd7-4e7c-96c9-da43b748cb34",
   "metadata": {},
   "outputs": [],
   "source": [
    "glob.glob('/home/akara/Workspace/U-Time/processed/*')"
   ]
  },
  {
   "cell_type": "code",
   "execution_count": null,
   "id": "76e0f325-59f9-4e37-9f5b-0090c55be798",
   "metadata": {},
   "outputs": [],
   "source": [
    "data_dir = '/home/akara/Workspace/U-Time/processed/shhs1'\n",
    "\n",
    "# Normal\n",
    "out_dir = '/home/akara/Workspace/U-Time/processed/shhs1_nor'\n",
    "if not osp.isdir(out_dir):\n",
    "    os.makedirs(out_dir)\n",
    "for sid in nor_df['nsrrid']:\n",
    "    src = osp.join(data_dir, f\"shhs1-{sid}\")\n",
    "    dst = osp.join(out_dir, f\"shhs1-{sid}\")\n",
    "    if osp.exists(dst):\n",
    "        os.unlink(dst)\n",
    "    os.symlink(src, dst)\n",
    "    \n",
    "# OSA\n",
    "out_dir = '/home/akara/Workspace/U-Time/processed/shhs1_osa'\n",
    "if not osp.isdir(out_dir):\n",
    "    os.makedirs(out_dir)\n",
    "for sid in osa_df['nsrrid']:\n",
    "    src = osp.join(data_dir, f\"shhs1-{sid}\")\n",
    "    dst = osp.join(out_dir, f\"shhs1-{sid}\")\n",
    "    if osp.exists(dst):\n",
    "        os.unlink(dst)\n",
    "    os.symlink(src, dst)"
   ]
  },
  {
   "cell_type": "markdown",
   "id": "1fae1f15-fbb3-4731-a6c8-6a095e7aa2d7",
   "metadata": {},
   "source": [
    "# Study SHHS1 dataset"
   ]
  },
  {
   "cell_type": "code",
   "execution_count": null,
   "id": "8071e463-7d67-4912-99bc-a4d12d892f14",
   "metadata": {},
   "outputs": [],
   "source": [
    "freq_used_cols = list(var_df.loc[var_df['commonly_used'] == True]['id'].values)\n",
    "freq_used_cols = list(ann_df.columns.intersection(freq_used_cols))\n",
    "freq_used_cols"
   ]
  },
  {
   "cell_type": "code",
   "execution_count": null,
   "id": "f9b3c643-549c-4a7d-b4a8-ad9556d92c57",
   "metadata": {},
   "outputs": [],
   "source": [
    "ann_df.loc[:, ann_df.columns.isin(freq_used_cols)]"
   ]
  },
  {
   "cell_type": "code",
   "execution_count": null,
   "id": "cfc8fa2d-0a5f-40d7-b61e-2ee83149e912",
   "metadata": {},
   "outputs": [],
   "source": [
    "for i, r in var_df[var_df['id'].isin(freq_used_cols)].iterrows():\n",
    "    print(f\"{r['id']}: {r['display_name']}\")"
   ]
  },
  {
   "cell_type": "code",
   "execution_count": null,
   "id": "5576fceb-5572-4504-bf9e-5d186bf052f3",
   "metadata": {},
   "outputs": [],
   "source": [
    "ann_df['visitnumber'].value_counts()"
   ]
  },
  {
   "cell_type": "code",
   "execution_count": null,
   "id": "1dcd7097-4687-4ca3-98b7-618fca9c39a3",
   "metadata": {},
   "outputs": [],
   "source": [
    "pat = '|'.join(r\"\\b{}\\b\".format(x) for x in ['apnea','Apnea'])\n",
    "sleep_apnea_cols = var_df[var_df['display_name'].str.contains(pat)][['id','display_name','description','type']]\n",
    "sleep_apnea_cols"
   ]
  },
  {
   "cell_type": "code",
   "execution_count": null,
   "id": "c271f808-692b-40c8-bc3d-975aa3bc147e",
   "metadata": {},
   "outputs": [],
   "source": [
    "list(ann_df.loc[:, ann_df.columns.isin(sleep_apnea_cols['id'])].columns)"
   ]
  },
  {
   "cell_type": "code",
   "execution_count": null,
   "id": "beb5b2f9-629b-4239-a013-46a39047221c",
   "metadata": {},
   "outputs": [],
   "source": [
    "for i, r in sleep_apnea_cols[sleep_apnea_cols['type']=='choices'].iterrows():\n",
    "    print(f\"{r['id']} ({r['type']}): {r['description']}\")\n",
    "    if r['id'] in ann_df.columns:\n",
    "        print(ann_df[r['id']].value_counts())\n",
    "        ann_df[r['id']].hist()\n",
    "        plt.show()\n",
    "        plt.close('all')\n",
    "    else:\n",
    "        print('Not exists')"
   ]
  },
  {
   "cell_type": "code",
   "execution_count": null,
   "id": "b9fa874f-581e-4097-84d4-19697ecf1f91",
   "metadata": {},
   "outputs": [],
   "source": [
    "ann_df.loc[(ann_df['sa15'] == 1) | (ann_df[''] == 1)]"
   ]
  },
  {
   "cell_type": "code",
   "execution_count": null,
   "id": "f066f9e7-23c7-485e-a9f9-99e66090f5b0",
   "metadata": {},
   "outputs": [],
   "source": [
    "ann_df['ahi_o0h4a'].hist()"
   ]
  },
  {
   "cell_type": "code",
   "execution_count": null,
   "id": "09f2f09d-40e8-48c9-b24b-d7cfc18d204b",
   "metadata": {},
   "outputs": [],
   "source": [
    "ann_df['ahi_a0h4a'].hist()"
   ]
  },
  {
   "cell_type": "code",
   "execution_count": null,
   "id": "87b07ee2-39ca-4d08-ba9c-60d6e7a606a9",
   "metadata": {},
   "outputs": [],
   "source": [
    "def AHI_class(v):\n",
    "    if v < 5:\n",
    "        return 0\n",
    "    elif v < 15:\n",
    "        return 1\n",
    "    elif v < 30:\n",
    "        return 2\n",
    "    else:\n",
    "        return 3"
   ]
  },
  {
   "cell_type": "code",
   "execution_count": null,
   "id": "a5d5bb74-04e4-441b-ad9c-63cc113af4bd",
   "metadata": {},
   "outputs": [],
   "source": [
    "target_cols = [\n",
    "    # 'ahi_a0h3', 'ahi_a0h4', 'ahi_o0h3', 'ahi_o0h4',\n",
    "    # 'ahi_a0h3a', 'ahi_a0h4a', 'ahi_o0h3a', 'ahi_o0h4a'\n",
    "    'ahi_a0h3a', 'ahi_o0h3a', \n",
    "]\n",
    "for c in target_cols:\n",
    "    cnts = ann_df[c].apply(AHI_class).value_counts().to_dict()\n",
    "    n_subs = sum(cnts.values())\n",
    "    cnts = collections.OrderedDict(sorted(cnts.items()))\n",
    "    print(f\"{c} ({n_subs}): {cnts}\")"
   ]
  },
  {
   "cell_type": "code",
   "execution_count": null,
   "id": "f922808c-8a00-4997-94d9-94b14cf4b051",
   "metadata": {},
   "outputs": [],
   "source": []
  }
 ],
 "metadata": {
  "kernelspec": {
   "display_name": "Python 3 (ipykernel)",
   "language": "python",
   "name": "python3"
  },
  "language_info": {
   "codemirror_mode": {
    "name": "ipython",
    "version": 3
   },
   "file_extension": ".py",
   "mimetype": "text/x-python",
   "name": "python",
   "nbconvert_exporter": "python",
   "pygments_lexer": "ipython3",
   "version": "3.10.6"
  }
 },
 "nbformat": 4,
 "nbformat_minor": 5
}
