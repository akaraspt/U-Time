{
 "cells": [
  {
   "cell_type": "code",
   "execution_count": null,
   "id": "af0c1edc-e839-46ab-ace3-03ae6a896a72",
   "metadata": {},
   "outputs": [],
   "source": [
    "import os\n",
    "import os.path as osp\n",
    "import glob\n",
    "import shutil"
   ]
  },
  {
   "cell_type": "markdown",
   "id": "c418ca6b-5208-45ea-af5b-c0847adf692b",
   "metadata": {},
   "source": [
    "# Sleep-EDF"
   ]
  },
  {
   "cell_type": "code",
   "execution_count": null,
   "id": "6557156c-0590-4488-91ff-9d113c25ff93",
   "metadata": {
    "scrolled": true,
    "tags": []
   },
   "outputs": [],
   "source": [
    "# SleepEDF\n",
    "data_dir = '/home/akara/Workspace/U-Time/processed/sedf_sc'\n",
    "ann_dir = '/home/akara/Workspace/U-Time/processed/sedf_sc/sleep-cassette'\n",
    "for sp in glob.glob(osp.join(data_dir, 'SC4*')):\n",
    "    sid = osp.basename(sp).split('-')[0] \n",
    "    ann_files = list(glob.glob(osp.join(ann_dir, f'{sid[:-2]}*-Hypnogram.ids')))\n",
    "    assert len(ann_files) == 1\n",
    "    ann_file = ann_files[0]\n",
    "    dest_file = osp.join(sp, osp.basename(ann_file))\n",
    "    print(sid, f\"Move from\\n{ann_file}\\nto\\n{dest_file}\")\n",
    "    shutil.move(f\"{ann_file}\", f\"{dest_file}\")"
   ]
  },
  {
   "cell_type": "markdown",
   "id": "f423bff3-4d74-452f-b31b-1b7f9578a136",
   "metadata": {
    "tags": []
   },
   "source": [
    "# MASS SS3"
   ]
  },
  {
   "cell_type": "code",
   "execution_count": null,
   "id": "563629b7-6b4f-41bf-a0a4-266e20ec198b",
   "metadata": {
    "scrolled": true,
    "tags": []
   },
   "outputs": [],
   "source": [
    "# MASS-SS3\n",
    "data_dir = '/home/akara/Workspace/U-Time/processed/mass_ss3'\n",
    "ann_dir = '/home/akara/Workspace/U-Time/processed/mass_ss3/annotations'\n",
    "for sp in glob.glob(osp.join(data_dir, '* PSG')):\n",
    "    sid = osp.basename(sp).split(' ')[0] \n",
    "    ann_files = list(glob.glob(osp.join(ann_dir, f'{sid}* Annotations.ids')))\n",
    "    assert len(ann_files) == 1\n",
    "    ann_file = ann_files[0]\n",
    "    dest_file = osp.join(sp, osp.basename(ann_file))\n",
    "    print(sid, f\"Move from\\n{ann_file}\\nto\\n{dest_file}\")\n",
    "    shutil.move(f\"{ann_file}\", f\"{dest_file}\")"
   ]
  },
  {
   "cell_type": "markdown",
   "id": "318277b6-f940-462d-af60-54a39808ede7",
   "metadata": {},
   "source": [
    "# MASS SS1"
   ]
  },
  {
   "cell_type": "code",
   "execution_count": null,
   "id": "84c3675a-1486-4cdd-aa0b-810342b5d6c1",
   "metadata": {
    "scrolled": true,
    "tags": []
   },
   "outputs": [],
   "source": [
    "# MASS-SS1\n",
    "data_dir = '/home/akara/Workspace/U-Time/processed/mass_ss1'\n",
    "ann_dir = '/home/akara/Workspace/U-Time/processed/mass_ss1/annotations'\n",
    "for sp in glob.glob(osp.join(data_dir, '* PSG')):\n",
    "    sid = osp.basename(sp).split(' ')[0] \n",
    "    ann_files = list(glob.glob(osp.join(ann_dir, f'{sid}* Annotations.ids')))\n",
    "    assert len(ann_files) == 1\n",
    "    ann_file = ann_files[0]\n",
    "    dest_file = osp.join(sp, osp.basename(ann_file))\n",
    "    print(sid, f\"Move from\\n{ann_file}\\nto\\n{dest_file}\")\n",
    "    shutil.move(f\"{ann_file}\", f\"{dest_file}\")"
   ]
  },
  {
   "cell_type": "markdown",
   "id": "0928f404-bac8-4ca5-a1ac-92bbafb2bbb7",
   "metadata": {
    "tags": []
   },
   "source": [
    "# Read Predictions"
   ]
  },
  {
   "cell_type": "code",
   "execution_count": null,
   "id": "7ac8b6a5-cd13-43f0-8536-411190564326",
   "metadata": {},
   "outputs": [],
   "source": [
    "import numpy as np"
   ]
  },
  {
   "cell_type": "code",
   "execution_count": null,
   "id": "73c09ddb-2a0e-4fd5-87db-1778acfcf4c3",
   "metadata": {},
   "outputs": [],
   "source": [
    "y_pred = np.load('./my_utime_project/out_pred_test/SC4041E0-PSG_PRED.npy')\n",
    "y_true = np.squeeze(np.load('./my_utime_project/out_pred_test/SC4041E0-PSG_TRUE.npy'))"
   ]
  },
  {
   "cell_type": "code",
   "execution_count": null,
   "id": "d7c6f04d-3a9b-4eb1-bb55-7e3a7c201d0d",
   "metadata": {},
   "outputs": [],
   "source": [
    "np.mean(y_pred == y_true)"
   ]
  }
 ],
 "metadata": {
  "kernelspec": {
   "display_name": "Python 3 (ipykernel)",
   "language": "python",
   "name": "python3"
  },
  "language_info": {
   "codemirror_mode": {
    "name": "ipython",
    "version": 3
   },
   "file_extension": ".py",
   "mimetype": "text/x-python",
   "name": "python",
   "nbconvert_exporter": "python",
   "pygments_lexer": "ipython3",
   "version": "3.10.6"
  }
 },
 "nbformat": 4,
 "nbformat_minor": 5
}
